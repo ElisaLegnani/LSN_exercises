{
 "cells": [
  {
   "cell_type": "markdown",
   "metadata": {},
   "source": [
    "# <span style=\"color:green\"> Numerical Simulation Laboratory (NSL) </span>\n",
    "## <span style=\"color:blue\">  Numerical exercises 6</span>\n"
   ]
  },
  {
   "cell_type": "markdown",
   "metadata": {},
   "source": [
    "### Simulations for Exercise 06.1"
   ]
  },
  {
   "cell_type": "code",
   "execution_count": 1,
   "metadata": {},
   "outputs": [],
   "source": [
    "import numpy as np\n",
    "import os"
   ]
  },
  {
   "cell_type": "code",
   "execution_count": 2,
   "metadata": {},
   "outputs": [],
   "source": [
    "Tmin=0.5\n",
    "Tmax=2.0\n",
    "\n",
    "nspin=50\n",
    "J=1.0\n",
    "h=0.0\n",
    "nblock=20\n",
    "nstep=10000\n",
    "restart=0\n",
    "equilibration=1\n",
    "metro=[1,0]\n",
    "\n",
    "temp=np.linspace(Tmin, Tmax, 30)"
   ]
  },
  {
   "cell_type": "code",
   "execution_count": 3,
   "metadata": {},
   "outputs": [
    {
     "name": "stdout",
     "output_type": "stream",
     "text": [
      "Finished\n"
     ]
    }
   ],
   "source": [
    "#Internal energy, Heat capacity, Magnetic susceptibility: h=0\n",
    "\n",
    "for m in metro:\n",
    "    \n",
    "    data=str(nspin)+\"\\n\"+str(J)+\"\\n\"+str(h)+\"\\n\"+str(m)+\"\\n\"+str(nblock)+\"\\n\"+str(nstep)+\"\\n\"+str(restart)+\"\\n\"+str(equilibration)+\"\\n\\n  ReadInput >> temp; \\n  ReadInput >> nspin; \\n  ReadInput >> J; \\n  ReadInput >> h; \\n  ReadInput >> metro; \\n  ReadInput >> nblk; \\n  ReadInput >> nstep; \\n  ReadInput >> restart; \\n  ReadInput >> equilibration;\"\n",
    "    \n",
    "    for t in temp:\n",
    "        indat=open(\"input.dat\", \"w\")\n",
    "        datatot=str(t)+\"\\n\"+data\n",
    "        indat.write(datatot)\n",
    "        indat.close()\n",
    "        os.system(\"./Monte_Carlo_ISING_1D.exe\")\n",
    "    \n",
    "print (\"Finished\")"
   ]
  },
  {
   "cell_type": "code",
   "execution_count": 4,
   "metadata": {},
   "outputs": [
    {
     "name": "stdout",
     "output_type": "stream",
     "text": [
      "Finished\n"
     ]
    }
   ],
   "source": [
    "i=0\n",
    "for m in metro: \n",
    "    \n",
    "    if m==1:\n",
    "        oute=open(\"metropolis/output.ene_temp.out\", \"w+\")\n",
    "        outc=open(\"metropolis/output.heat_temp.out\", \"w+\")\n",
    "        outx=open(\"metropolis/output.chi_temp.out\", \"w+\")\n",
    "    else:\n",
    "        oute=open(\"gibbs/output.ene_temp.out\", \"w+\")\n",
    "        outc=open(\"gibbs/output.heat_temp.out\", \"w+\")\n",
    "        outx=open(\"gibbs/output.chi_temp.out\", \"w+\")  \n",
    "\n",
    "    for t in temp:\n",
    "        i+=1\n",
    "        me, erre = np.loadtxt(\"output.ene.0\", skiprows=i*nblock-1, max_rows=1, usecols=(2,3), unpack=True)\n",
    "        dataout=str(t)+\"\\t\"+str(me)+\"\\t\"+str(erre)+\"\\n\"\n",
    "        oute.write(dataout)\n",
    "        mc, errc = np.loadtxt(\"output.heat.0\", skiprows=i*nblock-1, max_rows=1, usecols=(2,3), unpack=True)\n",
    "        dataout=str(t)+\"\\t\"+str(mc)+\"\\t\"+str(errc)+\"\\n\"\n",
    "        outc.write(dataout)\n",
    "        mx, errx = np.loadtxt(\"output.chi.0\", skiprows=i*nblock-1, max_rows=1, usecols=(2,3), unpack=True)\n",
    "        dataout=str(t)+\"\\t\"+str(mx)+\"\\t\"+str(errx)+\"\\n\"\n",
    "        outx.write(dataout)\n",
    "        \n",
    "    oute.close()\n",
    "    outc.close()\n",
    "    outx.close()\n",
    "    \n",
    "print (\"Finished\")"
   ]
  },
  {
   "cell_type": "code",
   "execution_count": 5,
   "metadata": {},
   "outputs": [
    {
     "name": "stdout",
     "output_type": "stream",
     "text": [
      "Finished\n"
     ]
    }
   ],
   "source": [
    "#Magnetization: h=0.02\n",
    "\n",
    "h=0.02\n",
    "\n",
    "for m in metro:\n",
    "    \n",
    "    data=str(nspin)+\"\\n\"+str(J)+\"\\n\"+str(h)+\"\\n\"+str(m)+\"\\n\"+str(nblock)+\"\\n\"+str(nstep)+\"\\n\"+str(restart)+\"\\n\"+str(equilibration)+\"\\n\\n  ReadInput >> temp; \\n  ReadInput >> nspin; \\n  ReadInput >> J; \\n  ReadInput >> h; \\n  ReadInput >> metro; \\n  ReadInput >> nblk; \\n  ReadInput >> nstep; \\n  ReadInput >> restart; \\n ReadInput >> equilibration;\"\n",
    "    \n",
    "    for t in temp:\n",
    "        indat=open(\"input.dat\", \"w\")\n",
    "        datatot=str(t)+\"\\n\"+data\n",
    "        indat.write(datatot)\n",
    "        indat.close()\n",
    "        os.system(\"./Monte_Carlo_ISING_1D.exe\")\n",
    "    \n",
    "print (\"Finished\")"
   ]
  },
  {
   "cell_type": "code",
   "execution_count": 6,
   "metadata": {},
   "outputs": [
    {
     "name": "stdout",
     "output_type": "stream",
     "text": [
      "Finished\n"
     ]
    }
   ],
   "source": [
    "i=0\n",
    "for m in metro:\n",
    "\n",
    "    if m==1:\n",
    "        outm=open(\"metropolis/output.mag_temp.out\", \"w+\")\n",
    "    else:\n",
    "        outm=open(\"gibbs/output.mag_temp.out\", \"w+\")\n",
    "    \n",
    "    for t in temp:\n",
    "        i+=1\n",
    "        mm, errm = np.loadtxt(\"output.mag.0\", skiprows=i*nblock-1, max_rows=1, usecols=(2,3), unpack=True)\n",
    "        dataout=str(t)+\"\\t\"+str(mm)+\"\\t\"+str(errm)+\"\\n\"\n",
    "        outm.write(dataout)\n",
    "        \n",
    "    outm.close()\n",
    "    \n",
    "print (\"Finished\")"
   ]
  },
  {
   "cell_type": "code",
   "execution_count": null,
   "metadata": {},
   "outputs": [],
   "source": []
  }
 ],
 "metadata": {
  "kernelspec": {
   "display_name": "Python 3",
   "language": "python",
   "name": "python3"
  },
  "language_info": {
   "codemirror_mode": {
    "name": "ipython",
    "version": 3
   },
   "file_extension": ".py",
   "mimetype": "text/x-python",
   "name": "python",
   "nbconvert_exporter": "python",
   "pygments_lexer": "ipython3",
   "version": "3.7.4"
  }
 },
 "nbformat": 4,
 "nbformat_minor": 2
}
